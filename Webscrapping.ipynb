{
 "cells": [
  {
   "cell_type": "code",
   "execution_count": 9,
   "id": "964df45c-2af5-409d-a110-f50539c5bb27",
   "metadata": {},
   "outputs": [],
   "source": [
    "import pandas as pd\n",
    "from bs4 import BeautifulSoup\n",
    "import requests\n",
    "import datetime\n",
    "import mysql.connector\n",
    "from sqlalchemy import create_engine\n",
    "import pymysql\n",
    "from datetime import datetime"
   ]
  },
  {
   "cell_type": "code",
   "execution_count": 2,
   "id": "0c61b61d-0373-4f47-9a8c-f5fc3a38a0d5",
   "metadata": {},
   "outputs": [],
   "source": [
    "url = \"https://www.numbeo.com/cost-of-living/rankings_current.jsp\""
   ]
  },
  {
   "cell_type": "code",
   "execution_count": 3,
   "id": "fe2bf4e3-c5ce-45f7-9079-31a75669cb2b",
   "metadata": {},
   "outputs": [],
   "source": [
    "response = requests.get(url).text"
   ]
  },
  {
   "cell_type": "code",
   "execution_count": 4,
   "id": "2594e45a-da1d-4305-a58b-3fbd2aa76d7d",
   "metadata": {},
   "outputs": [],
   "source": [
    "soup = BeautifulSoup(response,\"html.parser\")"
   ]
  },
  {
   "cell_type": "code",
   "execution_count": 5,
   "id": "6e767d84-3336-4b71-8ad9-7f024662bfee",
   "metadata": {},
   "outputs": [],
   "source": [
    "tables = soup.find_all('table')\n",
    "# tables"
   ]
  },
  {
   "cell_type": "code",
   "execution_count": 6,
   "id": "c28a85b0-0c60-47ba-a7ab-8dab6b90c69b",
   "metadata": {},
   "outputs": [],
   "source": [
    "table = soup.find('table',class_ = \"stripe row-border order-column compact\")\n",
    "# table"
   ]
  },
  {
   "cell_type": "code",
   "execution_count": 7,
   "id": "79e3b1d7-3eca-4111-b48d-0aee92adccaa",
   "metadata": {},
   "outputs": [
    {
     "data": {
      "text/plain": [
       "[<th><div style=\"font-size: 80%; vertical-align: middle;\">Rank</div></th>,\n",
       " <th><div style=\"font-size: 95%;\">City</div></th>,\n",
       " <th><div style=\"font-size: 90%;\">Cost of Living Index</div></th>,\n",
       " <th><div style=\"font-size: 90%;\">Rent Index</div></th>,\n",
       " <th><div style=\"font-size: 90%;\">Cost of Living Plus Rent Index</div></th>,\n",
       " <th><div style=\"font-size: 90%;\">Groceries Index</div></th>,\n",
       " <th><div style=\"font-size: 90%;\">Restaurant Price Index</div></th>,\n",
       " <th><div style=\"font-size: 90%;\">Local Purchasing Power Index</div></th>]"
      ]
     },
     "execution_count": 7,
     "metadata": {},
     "output_type": "execute_result"
    }
   ],
   "source": [
    "title = table.find_all('th')\n",
    "title"
   ]
  },
  {
   "cell_type": "code",
   "execution_count": 8,
   "id": "d52d603c-189a-4f70-a69a-f5189c26f483",
   "metadata": {},
   "outputs": [
    {
     "name": "stdout",
     "output_type": "stream",
     "text": [
      "['Rank', 'City', 'Cost of Living Index', 'Rent Index', 'Cost of Living Plus Rent Index', 'Groceries Index', 'Restaurant Price Index', 'Local Purchasing Power Index']\n"
     ]
    }
   ],
   "source": [
    "header = []\n",
    "\n",
    "for i in title:\n",
    "    name = i.text\n",
    "    header.append(name)\n",
    "print(header)"
   ]
  },
  {
   "cell_type": "code",
   "execution_count": 9,
   "id": "9910db00-ffd1-4128-bfd0-08033d09b155",
   "metadata": {},
   "outputs": [],
   "source": [
    "rows = table.tbody.select('tr')\n"
   ]
  },
  {
   "cell_type": "code",
   "execution_count": 10,
   "id": "ae0a92f6-2812-4cbf-952d-9d593d3f9a64",
   "metadata": {},
   "outputs": [],
   "source": [
    "data = [dict(zip(header,[cell.get_text(strip=True) for cell in row.find_all('td')])) for row in rows[0:]]"
   ]
  },
  {
   "cell_type": "code",
   "execution_count": 11,
   "id": "6973e510-9606-44f9-81f9-a37a05521dd7",
   "metadata": {},
   "outputs": [],
   "source": [
    "df = pd.DataFrame(data)\n"
   ]
  },
  {
   "cell_type": "code",
   "execution_count": 12,
   "id": "82f754d1-66dc-497f-ac71-c95f4104d8ed",
   "metadata": {},
   "outputs": [],
   "source": [
    "df[['Cost of Living Index','Rent Index','Cost of Living Plus Rent Index','Groceries Index','Restaurant Price Index','Local Purchasing Power Index']] = df[['Cost of Living Index','Rent Index','Cost of Living Plus Rent Index','Groceries Index','Restaurant Price Index','Local Purchasing Power Index']].astype('float')"
   ]
  },
  {
   "cell_type": "code",
   "execution_count": 13,
   "id": "f88c6e41-0cc8-470b-99ba-ccfa18087d08",
   "metadata": {},
   "outputs": [
    {
     "name": "stdout",
     "output_type": "stream",
     "text": [
      "<class 'pandas.core.frame.DataFrame'>\n",
      "RangeIndex: 569 entries, 0 to 568\n",
      "Data columns (total 8 columns):\n",
      " #   Column                          Non-Null Count  Dtype  \n",
      "---  ------                          --------------  -----  \n",
      " 0   Rank                            569 non-null    object \n",
      " 1   City                            569 non-null    object \n",
      " 2   Cost of Living Index            569 non-null    float64\n",
      " 3   Rent Index                      569 non-null    float64\n",
      " 4   Cost of Living Plus Rent Index  569 non-null    float64\n",
      " 5   Groceries Index                 569 non-null    float64\n",
      " 6   Restaurant Price Index          569 non-null    float64\n",
      " 7   Local Purchasing Power Index    569 non-null    float64\n",
      "dtypes: float64(6), object(2)\n",
      "memory usage: 35.7+ KB\n"
     ]
    }
   ],
   "source": [
    "df.info()"
   ]
  },
  {
   "cell_type": "code",
   "execution_count": 14,
   "id": "3ad4b1d0-b503-4af1-a9d9-5efd9a89905f",
   "metadata": {},
   "outputs": [
    {
     "data": {
      "text/html": [
       "<div>\n",
       "<style scoped>\n",
       "    .dataframe tbody tr th:only-of-type {\n",
       "        vertical-align: middle;\n",
       "    }\n",
       "\n",
       "    .dataframe tbody tr th {\n",
       "        vertical-align: top;\n",
       "    }\n",
       "\n",
       "    .dataframe thead th {\n",
       "        text-align: right;\n",
       "    }\n",
       "</style>\n",
       "<table border=\"1\" class=\"dataframe\">\n",
       "  <thead>\n",
       "    <tr style=\"text-align: right;\">\n",
       "      <th></th>\n",
       "      <th>Rank</th>\n",
       "      <th>City</th>\n",
       "      <th>Cost of Living Index</th>\n",
       "      <th>Rent Index</th>\n",
       "      <th>Cost of Living Plus Rent Index</th>\n",
       "      <th>Groceries Index</th>\n",
       "      <th>Restaurant Price Index</th>\n",
       "      <th>Local Purchasing Power Index</th>\n",
       "    </tr>\n",
       "  </thead>\n",
       "  <tbody>\n",
       "    <tr>\n",
       "      <th>0</th>\n",
       "      <td>1</td>\n",
       "      <td>Hamilton, Bermuda</td>\n",
       "      <td>142.0</td>\n",
       "      <td>92.2</td>\n",
       "      <td>117.9</td>\n",
       "      <td>147.0</td>\n",
       "      <td>139.4</td>\n",
       "      <td>78.0</td>\n",
       "    </tr>\n",
       "    <tr>\n",
       "      <th>1</th>\n",
       "      <td>2</td>\n",
       "      <td>Zurich, Switzerland</td>\n",
       "      <td>128.9</td>\n",
       "      <td>67.5</td>\n",
       "      <td>99.2</td>\n",
       "      <td>122.3</td>\n",
       "      <td>120.7</td>\n",
       "      <td>111.0</td>\n",
       "    </tr>\n",
       "    <tr>\n",
       "      <th>2</th>\n",
       "      <td>3</td>\n",
       "      <td>Basel, Switzerland</td>\n",
       "      <td>126.3</td>\n",
       "      <td>44.8</td>\n",
       "      <td>86.9</td>\n",
       "      <td>135.1</td>\n",
       "      <td>119.0</td>\n",
       "      <td>118.4</td>\n",
       "    </tr>\n",
       "    <tr>\n",
       "      <th>3</th>\n",
       "      <td>4</td>\n",
       "      <td>Lausanne, Switzerland</td>\n",
       "      <td>121.7</td>\n",
       "      <td>52.8</td>\n",
       "      <td>88.3</td>\n",
       "      <td>118.2</td>\n",
       "      <td>112.1</td>\n",
       "      <td>103.4</td>\n",
       "    </tr>\n",
       "    <tr>\n",
       "      <th>4</th>\n",
       "      <td>5</td>\n",
       "      <td>Zug, Switzerland</td>\n",
       "      <td>118.7</td>\n",
       "      <td>65.0</td>\n",
       "      <td>92.7</td>\n",
       "      <td>113.4</td>\n",
       "      <td>122.2</td>\n",
       "      <td>127.0</td>\n",
       "    </tr>\n",
       "    <tr>\n",
       "      <th>...</th>\n",
       "      <td>...</td>\n",
       "      <td>...</td>\n",
       "      <td>...</td>\n",
       "      <td>...</td>\n",
       "      <td>...</td>\n",
       "      <td>...</td>\n",
       "      <td>...</td>\n",
       "      <td>...</td>\n",
       "    </tr>\n",
       "    <tr>\n",
       "      <th>564</th>\n",
       "      <td>565</td>\n",
       "      <td>Islamabad, Pakistan</td>\n",
       "      <td>16.8</td>\n",
       "      <td>4.4</td>\n",
       "      <td>10.8</td>\n",
       "      <td>14.3</td>\n",
       "      <td>12.2</td>\n",
       "      <td>26.1</td>\n",
       "    </tr>\n",
       "    <tr>\n",
       "      <th>565</th>\n",
       "      <td>566</td>\n",
       "      <td>Multan, Pakistan</td>\n",
       "      <td>13.7</td>\n",
       "      <td>2.8</td>\n",
       "      <td>8.4</td>\n",
       "      <td>12.5</td>\n",
       "      <td>10.1</td>\n",
       "      <td>22.8</td>\n",
       "    </tr>\n",
       "    <tr>\n",
       "      <th>566</th>\n",
       "      <td>567</td>\n",
       "      <td>Rawalpindi, Pakistan</td>\n",
       "      <td>13.5</td>\n",
       "      <td>2.3</td>\n",
       "      <td>8.1</td>\n",
       "      <td>12.1</td>\n",
       "      <td>10.4</td>\n",
       "      <td>27.2</td>\n",
       "    </tr>\n",
       "    <tr>\n",
       "      <th>567</th>\n",
       "      <td>568</td>\n",
       "      <td>Faisalabad, Pakistan</td>\n",
       "      <td>12.8</td>\n",
       "      <td>2.2</td>\n",
       "      <td>7.6</td>\n",
       "      <td>10.0</td>\n",
       "      <td>8.0</td>\n",
       "      <td>30.9</td>\n",
       "    </tr>\n",
       "    <tr>\n",
       "      <th>568</th>\n",
       "      <td>569</td>\n",
       "      <td>Peshawar, Pakistan</td>\n",
       "      <td>12.2</td>\n",
       "      <td>1.3</td>\n",
       "      <td>6.9</td>\n",
       "      <td>10.7</td>\n",
       "      <td>8.7</td>\n",
       "      <td>25.0</td>\n",
       "    </tr>\n",
       "  </tbody>\n",
       "</table>\n",
       "<p>569 rows × 8 columns</p>\n",
       "</div>"
      ],
      "text/plain": [
       "     Rank                   City  Cost of Living Index  Rent Index  \\\n",
       "0       1      Hamilton, Bermuda                 142.0        92.2   \n",
       "1       2    Zurich, Switzerland                 128.9        67.5   \n",
       "2       3     Basel, Switzerland                 126.3        44.8   \n",
       "3       4  Lausanne, Switzerland                 121.7        52.8   \n",
       "4       5       Zug, Switzerland                 118.7        65.0   \n",
       "..    ...                    ...                   ...         ...   \n",
       "564   565    Islamabad, Pakistan                  16.8         4.4   \n",
       "565   566       Multan, Pakistan                  13.7         2.8   \n",
       "566   567   Rawalpindi, Pakistan                  13.5         2.3   \n",
       "567   568   Faisalabad, Pakistan                  12.8         2.2   \n",
       "568   569     Peshawar, Pakistan                  12.2         1.3   \n",
       "\n",
       "     Cost of Living Plus Rent Index  Groceries Index  Restaurant Price Index  \\\n",
       "0                             117.9            147.0                   139.4   \n",
       "1                              99.2            122.3                   120.7   \n",
       "2                              86.9            135.1                   119.0   \n",
       "3                              88.3            118.2                   112.1   \n",
       "4                              92.7            113.4                   122.2   \n",
       "..                              ...              ...                     ...   \n",
       "564                            10.8             14.3                    12.2   \n",
       "565                             8.4             12.5                    10.1   \n",
       "566                             8.1             12.1                    10.4   \n",
       "567                             7.6             10.0                     8.0   \n",
       "568                             6.9             10.7                     8.7   \n",
       "\n",
       "     Local Purchasing Power Index  \n",
       "0                            78.0  \n",
       "1                           111.0  \n",
       "2                           118.4  \n",
       "3                           103.4  \n",
       "4                           127.0  \n",
       "..                            ...  \n",
       "564                          26.1  \n",
       "565                          22.8  \n",
       "566                          27.2  \n",
       "567                          30.9  \n",
       "568                          25.0  \n",
       "\n",
       "[569 rows x 8 columns]"
      ]
     },
     "execution_count": 14,
     "metadata": {},
     "output_type": "execute_result"
    }
   ],
   "source": [
    "df['Rank'] = df['Cost of Living Index'].rank(ascending=False).astype('int64')\n",
    "df"
   ]
  },
  {
   "cell_type": "code",
   "execution_count": 15,
   "id": "3c00a0ce-2b34-45d8-8dbd-9aebea47ccc9",
   "metadata": {},
   "outputs": [],
   "source": [
    "links = []\n",
    "\n",
    "url = \"https://www.numbeo.com/cost-of-living/rankings_current.jsp\"\n",
    "\n",
    "r = requests.get(url).text\n",
    "\n",
    "s = BeautifulSoup(r,'html.parser')\n",
    "\n",
    "\n",
    "for i in s.find_all('a',class_=\"discreet_link\"):\n",
    "    a = i.get('href')\n",
    "    links.append(a)\n",
    "\n"
   ]
  },
  {
   "cell_type": "code",
   "execution_count": 16,
   "id": "bcf60f3b-9ab7-4c61-b0c4-6f52613c994b",
   "metadata": {},
   "outputs": [],
   "source": [
    "citieS = []\n",
    "\n",
    "for City in df['City']:\n",
    "    a = citieS.append(City)"
   ]
  },
  {
   "cell_type": "code",
   "execution_count": 17,
   "id": "263ae671-b946-4781-a6ef-6cd6fc4faaa7",
   "metadata": {},
   "outputs": [],
   "source": [
    "my_dict = dict(zip(citieS,links[1:]))"
   ]
  },
  {
   "cell_type": "code",
   "execution_count": 18,
   "id": "9f2c1fc5-bac2-47c2-84d4-b23422a50717",
   "metadata": {},
   "outputs": [],
   "source": [
    "def city_name(Url) :\n",
    "    my_dict = dict(zip(citieS,links[1:]))\n",
    "    \n",
    "    # for url in links:\n",
    "    for city,city_url in my_dict.items():\n",
    "            # if city == \"Hamilton, Bermuda\":\n",
    "            if Url == city_url:\n",
    "                return city"
   ]
  },
  {
   "cell_type": "code",
   "execution_count": 19,
   "id": "4abb5e87-d11d-43f8-be5e-883b75e255fd",
   "metadata": {},
   "outputs": [],
   "source": [
    "def clean_string(original_string):\n",
    "    \n",
    "     # Initialize a counter for the number of decimal points\n",
    "    decimal_count = 0\n",
    "    \n",
    "    # Keep only the numeric characters and the first decimal point\n",
    "    clean_string = ''\n",
    "    for c in original_string:\n",
    "        \n",
    "        if c.isnumeric():\n",
    "            clean_string += c\n",
    "            \n",
    "        elif c == '.':\n",
    "            decimal_count += 1\n",
    "            \n",
    "            if decimal_count == 1:\n",
    "                clean_string += c\n",
    "                \n",
    "    # Check if the cleaned string is empty\n",
    "    if not clean_string:\n",
    "        # Return a default value\n",
    "        return None\n",
    "    \n",
    "    else:\n",
    "        # Convert the cleaned string to a float\n",
    "        clean_float = float(clean_string)\n",
    "        return clean_float"
   ]
  },
  {
   "cell_type": "code",
   "execution_count": 20,
   "id": "6bfe9138-b529-49e1-8920-cebefd3cff2e",
   "metadata": {},
   "outputs": [],
   "source": [
    "def move_column(df, column_name, position):\n",
    "    col = df.pop(column_name) # remove column and store it in col\n",
    "    df.insert(position, column_name, col) # insert column at specified position"
   ]
  },
  {
   "cell_type": "code",
   "execution_count": 21,
   "id": "92c8abb1-6196-472b-95fb-e95bb2052873",
   "metadata": {},
   "outputs": [],
   "source": [
    "final_restaurant_cost = []\n",
    "final_market_cost = []\n",
    "final_transportation_cost = [] \n",
    "final_utilities_monthly_cost = []\n",
    "final_sports_and_leisure_cost = []\n",
    "final_childcare_cost = []\n",
    "final_clothing_and_shoes_cost = []\n",
    "final_rent_per_month_cost = []\n",
    "final_buy_apartment_price_cost = []\n",
    "final_salaries_and_financing_cost = []"
   ]
  },
  {
   "cell_type": "code",
   "execution_count": 22,
   "id": "df1a1b2d-752e-4873-b64b-5f04fc6c3bcd",
   "metadata": {},
   "outputs": [],
   "source": [
    "\n",
    "for url in links[1:]:\n",
    "    \n",
    "    response = requests.get(url).text\n",
    "    soup = BeautifulSoup(response,\"html.parser\")\n",
    "    new_table = soup.find('table',class_= \"data_wide_table new_bar_table\")\n",
    "    ro = new_table.find_all('tr')\n",
    "    header1 = ['Restaurants','Amount','Markets','Amount','Transportation','Amount','Utilities (Monthly)','Amount','Sports And Leisure','Amount','Childcare','Amount','Clothing And Shoes','Amount','Rent Per Month','Amount','Buy Apartment Price','Amount','Salaries And Financing','Amount']\n",
    "    city_name1 = city_name(url)\n",
    "    \n",
    "    restaurant_cost = pd.DataFrame([dict(zip(header1[0:2],[cell.text for cell in row.find_all('td')])) for row in ro[1:9]])\n",
    "    restaurant_cost['Amount']=restaurant_cost['Amount'].apply(clean_string)\n",
    "    restaurant_cost[\"City\"] = city_name1\n",
    "    move_column(restaurant_cost,'City',0)\n",
    "    final_restaurant_cost.append(restaurant_cost)\n",
    "\n",
    "    market_cost = pd.DataFrame([dict(zip(header1[2:4],[cell.text for cell in row.find_all('td')])) for row in ro[10:29]])\n",
    "    market_cost['Amount'] =  market_cost['Amount'].apply(clean_string)\n",
    "    market_cost[\"City\"] = city_name(url)\n",
    "    move_column(market_cost,'City',0)\n",
    "    final_market_cost.append(market_cost)\n",
    "    \n",
    "    transportation_cost = pd.DataFrame([dict(zip(header1[4:6],[cell.text for cell in row.find_all('td')])) for row in ro[30:38]])\n",
    "    transportation_cost['Amount'] =  transportation_cost['Amount'].apply(clean_string)\n",
    "    transportation_cost[\"City\"] = city_name(url)\n",
    "    move_column(transportation_cost,'City',0)\n",
    "    final_transportation_cost.append(transportation_cost)\n",
    "    \n",
    "    utilities_monthly_cost = pd.DataFrame([dict(zip(header1[6:8],[cell.text for cell in row.find_all('td')])) for row in ro[39:42]])\n",
    "    utilities_monthly_cost['Amount'] =  utilities_monthly_cost['Amount'].apply(clean_string)\n",
    "    utilities_monthly_cost[\"City\"] = city_name(url)\n",
    "    move_column(utilities_monthly_cost,'City',0)\n",
    "    final_utilities_monthly_cost.append(utilities_monthly_cost)\n",
    "    \n",
    "    sports_and_leisure_cost =  pd.DataFrame([dict(zip(header1[8:10],[cell.text for cell in row.find_all('td')])) for row in ro[43:46]])\n",
    "    sports_and_leisure_cost['Amount'] =  sports_and_leisure_cost['Amount'].apply(clean_string)\n",
    "    sports_and_leisure_cost[\"City\"] = city_name(url)\n",
    "    move_column(sports_and_leisure_cost,'City',0)\n",
    "    final_sports_and_leisure_cost.append(sports_and_leisure_cost)\n",
    "    \n",
    "    childcare_cost = pd.DataFrame([dict(zip(header1[10:12],[cell.text for cell in row.find_all('td')])) for row in ro[47:49]])\n",
    "    childcare_cost['Amount'] =  childcare_cost['Amount'].apply(clean_string)\n",
    "    childcare_cost[\"City\"] = city_name(url)\n",
    "    move_column(childcare_cost,'City',0)\n",
    "    final_childcare_cost.append(childcare_cost)\n",
    "    \n",
    "    clothing_and_shoes_cost = pd.DataFrame([dict(zip(header1[12:14],[cell.text for cell in row.find_all('td')])) for row in ro[50:54]])\n",
    "    clothing_and_shoes_cost['Amount'] =  clothing_and_shoes_cost['Amount'].apply(clean_string)\n",
    "    clothing_and_shoes_cost[\"City\"] = city_name(url)\n",
    "    move_column(clothing_and_shoes_cost,'City',0)\n",
    "    final_clothing_and_shoes_cost.append(clothing_and_shoes_cost)\n",
    "    \n",
    "    rent_per_month_cost = pd.DataFrame([dict(zip(header1[14:16],[cell.text for cell in row.find_all('td')])) for row in ro[55:59]])\n",
    "    rent_per_month_cost['Amount'] = rent_per_month_cost['Amount'].apply(clean_string)\n",
    "    rent_per_month_cost['City'] = city_name(url)\n",
    "    move_column(rent_per_month_cost,'City',0)\n",
    "    final_rent_per_month_cost.append(rent_per_month_cost)\n",
    "\n",
    "    buy_apartment_price_cost = pd.DataFrame([dict(zip(header1[16:18],[cell.text for cell in row.find_all('td')])) for row in ro[60:62]])\n",
    "    buy_apartment_price_cost['Amount'] = buy_apartment_price_cost['Amount'].apply(clean_string)\n",
    "    buy_apartment_price_cost[\"City\"] = city_name(url)\n",
    "    move_column(buy_apartment_price_cost,'City',0)\n",
    "    final_buy_apartment_price_cost.append(buy_apartment_price_cost)\n",
    "    \n",
    "    salaries_and_financing_cost = pd.DataFrame([dict(zip(header1[18:20],[cell.text for cell in row.find_all('td')])) for row in ro[63:65]])\n",
    "    salaries_and_financing_cost['Amount'] = salaries_and_financing_cost['Amount'].apply(clean_string)\n",
    "    salaries_and_financing_cost[\"City\"] = city_name(url)\n",
    "    move_column(salaries_and_financing_cost,'City',0)\n",
    "    final_salaries_and_financing_cost.append(salaries_and_financing_cost)\n"
   ]
  },
  {
   "cell_type": "code",
   "execution_count": 23,
   "id": "ddc3eb0f-7474-4350-8f4e-250ebc570b36",
   "metadata": {},
   "outputs": [],
   "source": [
    "restaurant_expenses = pd.concat(final_restaurant_cost)\n",
    "market_expenses = pd.concat(final_market_cost)\n",
    "tran_expenses = pd.concat(final_transportation_cost)\n",
    "utilities_expenses = pd.concat(final_utilities_monthly_cost)\n",
    "sport_and_leisure_expenses = pd.concat(final_sports_and_leisure_cost)\n",
    "childcare_expenses = pd.concat(final_childcare_cost)\n",
    "clothing_expenses = pd.concat(final_clothing_and_shoes_cost)\n",
    "rent_per_month = pd.concat(final_rent_per_month_cost)\n",
    "buy_apartment = pd.concat(final_buy_apartment_price_cost)\n",
    "salaries_expenses = pd.concat(final_salaries_and_financing_cost)"
   ]
  },
  {
   "cell_type": "code",
   "execution_count": 24,
   "id": "1bc51fbe-e279-4338-84bd-53312834d83d",
   "metadata": {},
   "outputs": [],
   "source": [
    "name = 'root'\n",
    "host = 'localhost'\n",
    "password = 'wahid786'\n",
    "port = 3306\n",
    "dbname = 'WEBSCRAPPING'\n",
    "\n",
    "engine = create_engine(f'mysql+pymysql://{name}:{password}@{host}:{port}/{dbname}')"
   ]
  },
  {
   "cell_type": "code",
   "execution_count": 25,
   "id": "10d63fcf-707c-4efd-8f69-a6ac8d6291b6",
   "metadata": {},
   "outputs": [
    {
     "data": {
      "text/plain": [
       "569"
      ]
     },
     "execution_count": 25,
     "metadata": {},
     "output_type": "execute_result"
    }
   ],
   "source": [
    "df.to_sql('cities',engine,if_exists = 'replace',index=False)"
   ]
  },
  {
   "cell_type": "code",
   "execution_count": 26,
   "id": "88158a58-b194-437b-97cd-40091efac3fb",
   "metadata": {},
   "outputs": [
    {
     "data": {
      "text/plain": [
       "4552"
      ]
     },
     "execution_count": 26,
     "metadata": {},
     "output_type": "execute_result"
    }
   ],
   "source": [
    "restaurant_expenses.to_sql('restaurant_cost_test',engine,if_exists = 'replace',index=False)"
   ]
  },
  {
   "cell_type": "code",
   "execution_count": 27,
   "id": "79c31eff-06ae-4a7c-a3d8-656bfcd077a8",
   "metadata": {},
   "outputs": [
    {
     "data": {
      "text/plain": [
       "10811"
      ]
     },
     "execution_count": 27,
     "metadata": {},
     "output_type": "execute_result"
    }
   ],
   "source": [
    "market_expenses.to_sql('market_cost_set',engine,if_exists = 'replace',index=False)"
   ]
  },
  {
   "cell_type": "code",
   "execution_count": 28,
   "id": "9968dc20-bd33-478f-b099-5c208972f190",
   "metadata": {},
   "outputs": [
    {
     "data": {
      "text/plain": [
       "4552"
      ]
     },
     "execution_count": 28,
     "metadata": {},
     "output_type": "execute_result"
    }
   ],
   "source": [
    "tran_expenses.to_sql('transportation_cost_status',engine,if_exists = 'replace',index=False)"
   ]
  },
  {
   "cell_type": "code",
   "execution_count": 29,
   "id": "b14f2c00-b2a1-4ddc-8c48-3f5d14758f0e",
   "metadata": {},
   "outputs": [
    {
     "data": {
      "text/plain": [
       "1707"
      ]
     },
     "execution_count": 29,
     "metadata": {},
     "output_type": "execute_result"
    }
   ],
   "source": [
    "utilities_expenses.to_sql('utilies_cost_set',engine,if_exists = 'replace',index=False)"
   ]
  },
  {
   "cell_type": "code",
   "execution_count": 30,
   "id": "0bf91020-7652-4c73-a306-b3e361ae6fac",
   "metadata": {},
   "outputs": [
    {
     "data": {
      "text/plain": [
       "1707"
      ]
     },
     "execution_count": 30,
     "metadata": {},
     "output_type": "execute_result"
    }
   ],
   "source": [
    "sport_and_leisure_expenses.to_sql('spports_leisure_cost_set',engine,if_exists = 'replace',index=False)"
   ]
  },
  {
   "cell_type": "code",
   "execution_count": 31,
   "id": "9afa5995-6b75-4a88-87bd-a50a54c30fd6",
   "metadata": {},
   "outputs": [
    {
     "data": {
      "text/plain": [
       "1138"
      ]
     },
     "execution_count": 31,
     "metadata": {},
     "output_type": "execute_result"
    }
   ],
   "source": [
    "childcare_expenses.to_sql('childcare',engine,if_exists = 'replace',index=False)"
   ]
  },
  {
   "cell_type": "code",
   "execution_count": 32,
   "id": "d4f46f7e-bf87-476c-a053-112b578d58d1",
   "metadata": {},
   "outputs": [
    {
     "data": {
      "text/plain": [
       "2276"
      ]
     },
     "execution_count": 32,
     "metadata": {},
     "output_type": "execute_result"
    }
   ],
   "source": [
    "clothing_expenses.to_sql('clothing_shoes_cost_set',engine,if_exists = 'replace',index=False)"
   ]
  },
  {
   "cell_type": "code",
   "execution_count": 33,
   "id": "6921aa9a-5321-4f68-8b10-f8b3150b8f34",
   "metadata": {},
   "outputs": [
    {
     "data": {
      "text/plain": [
       "2276"
      ]
     },
     "execution_count": 33,
     "metadata": {},
     "output_type": "execute_result"
    }
   ],
   "source": [
    "rent_per_month.to_sql('rent_cost_set',engine,if_exists = 'replace',index=False)"
   ]
  },
  {
   "cell_type": "code",
   "execution_count": 34,
   "id": "87365631-e268-46bc-9655-40632f8f0142",
   "metadata": {},
   "outputs": [
    {
     "data": {
      "text/plain": [
       "1138"
      ]
     },
     "execution_count": 34,
     "metadata": {},
     "output_type": "execute_result"
    }
   ],
   "source": [
    "buy_apartment.to_sql('buy_apt_cost_set',engine,if_exists = 'replace',index=False)"
   ]
  },
  {
   "cell_type": "code",
   "execution_count": 35,
   "id": "3234b7da-ff74-4707-a7b5-198709e7b60d",
   "metadata": {},
   "outputs": [
    {
     "data": {
      "text/plain": [
       "1138"
      ]
     },
     "execution_count": 35,
     "metadata": {},
     "output_type": "execute_result"
    }
   ],
   "source": [
    "salaries_expenses.to_sql('salary_and_financing_cost',engine,if_exists = 'replace',index=False)"
   ]
  },
  {
   "cell_type": "code",
   "execution_count": 8,
   "id": "7e40a48a-0396-4e73-bb1c-482ba32e9658",
   "metadata": {},
   "outputs": [
    {
     "data": {
      "text/plain": [
       "76"
      ]
     },
     "execution_count": 8,
     "metadata": {},
     "output_type": "execute_result"
    }
   ],
   "source": [
    "file = open(r\"C:\\\\Users\\\\hp\\\\OneDrive\\\\Desktop\\\\Python\\\\Projects\\\\webscrapping.txt\",'a')\n",
    "file.write(f'{datetime.datetime.now} - The Script ran\\n')"
   ]
  },
  {
   "cell_type": "code",
   "execution_count": 5,
   "id": "6d422f51-1873-436b-9095-cfe75760ef2d",
   "metadata": {},
   "outputs": [],
   "source": []
  },
  {
   "cell_type": "code",
   "execution_count": null,
   "id": "781c63ba-7ba5-48c1-8315-45687fcfaa78",
   "metadata": {},
   "outputs": [],
   "source": []
  }
 ],
 "metadata": {
  "kernelspec": {
   "display_name": "Python 3 (ipykernel)",
   "language": "python",
   "name": "python3"
  },
  "language_info": {
   "codemirror_mode": {
    "name": "ipython",
    "version": 3
   },
   "file_extension": ".py",
   "mimetype": "text/x-python",
   "name": "python",
   "nbconvert_exporter": "python",
   "pygments_lexer": "ipython3",
   "version": "3.9.12"
  }
 },
 "nbformat": 4,
 "nbformat_minor": 5
}
